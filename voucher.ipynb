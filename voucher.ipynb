{
 "cells": [
  {
   "cell_type": "code",
   "execution_count": 48,
   "metadata": {},
   "outputs": [],
   "source": [
    "import requests\n",
    "from bs4 import BeautifulSoup\n",
    "import json\n",
    "import re \n",
    "import urllib.parse"
   ]
  },
  {
   "cell_type": "code",
   "execution_count": 3,
   "metadata": {},
   "outputs": [],
   "source": [
    "def getBranch(url):\n",
    "    headers = {\n",
    "        \"User-Agent\": \"Mozilla/5.0 (Windows NT 10.0; Win64; x64) AppleWebKit/537.36 (KHTML, like Gecko) Chrome/114.0.0.0 Safari/537.36\",\n",
    "        \"Accept-Language\": \"en-US,en;q=0.9\",\n",
    "    }\n",
    "    response = requests.get(url, headers=headers)\n",
    "    if response.status_code != 200:\n",
    "        print(f\"Lỗi tải trang: {response.status_code}\")\n",
    "        return\n",
    "    soup = BeautifulSoup(response.text, 'html.parser')\n",
    "    result = []\n",
    "    try:\n",
    "        branches = soup.select('.yq')\n",
    "        for branch in branches:\n",
    "            nameBranch = branch.select_one('p > a[href]').text\n",
    "            link = branch.select_one('a[href]').get('href')\n",
    "            result.append({\n",
    "                \"name\": nameBranch,\n",
    "                \"link\": link\n",
    "            })\n",
    "    except Exception as e:\n",
    "        print(f\"Error: {e}\")\n",
    "    with open('branch.json', 'w', encoding='utf-8') as f:\n",
    "        json.dump(result, f, ensure_ascii=False, indent=4)\n",
    "        print(\"Dữ liệu đã được lưu vào file `branch.json`.\")"
   ]
  },
  {
   "cell_type": "code",
   "execution_count": 9,
   "metadata": {},
   "outputs": [
    {
     "name": "stdout",
     "output_type": "stream",
     "text": [
      "Dữ liệu đã được lưu vào file `branch.json`.\n"
     ]
    }
   ],
   "source": [
    "getBranch('https://iprice.vn/coupons/stores/')"
   ]
  },
  {
   "cell_type": "code",
   "execution_count": 12,
   "metadata": {},
   "outputs": [],
   "source": [
    "def getCategory(url):\n",
    "    headers = {\n",
    "        \"User-Agent\": \"Mozilla/5.0 (Windows NT 10.0; Win64; x64) AppleWebKit/537.36 (KHTML, like Gecko) Chrome/114.0.0.0 Safari/537.36\",\n",
    "        \"Accept-Language\": \"en-US,en;q=0.9\",\n",
    "    }\n",
    "    response = requests.get(url, headers=headers)\n",
    "    if response.status_code != 200:\n",
    "        print(f\"Lỗi tải trang: {response.status_code}\")\n",
    "        return\n",
    "    soup = BeautifulSoup(response.text, 'html.parser')\n",
    "    result = []\n",
    "    try:\n",
    "        categories = soup.select('.uk.oY.pv3-4x.ph6-4x.bM.rg.bF.p3.rl.w-120.h-min-136')\n",
    "        for category in categories:\n",
    "            name = category.select_one('h3.bG.ac.ad.eg.tc.ic.aV.line-clamp.rp').text\n",
    "            link = category.get('href')\n",
    "            result.append({\n",
    "                \"name\": name,\n",
    "                \"link\": link\n",
    "            })\n",
    "    except Exception as e:\n",
    "        print(f\"Error: {e}\")\n",
    "    with open('category_voucher.json', 'w', encoding='utf-8') as f:\n",
    "        json.dump(result, f, ensure_ascii=False, indent=4)\n",
    "        print(\"Dữ liệu đã được lưu vào file `branch.json`.\")"
   ]
  },
  {
   "cell_type": "code",
   "execution_count": null,
   "metadata": {},
   "outputs": [],
   "source": [
    "getCategory('https://iprice.vn/coupons/')"
   ]
  },
  {
   "cell_type": "code",
   "execution_count": 55,
   "metadata": {},
   "outputs": [],
   "source": [
    "def getVoucher(url):\n",
    "    headers = {\n",
    "        \"User-Agent\": \"Mozilla/5.0 (Windows NT 10.0; Win64; x64) AppleWebKit/537.36 (KHTML, like Gecko) Chrome/114.0.0.0 Safari/537.36\",\n",
    "        \"Accept-Language\": \"en-US,en;q=0.9\",\n",
    "    }\n",
    "    response = requests.get(url, headers=headers)\n",
    "    if response.status_code != 200:\n",
    "        print(f\"Lỗi tải trang: {response.status_code}\")\n",
    "        return\n",
    "    soup = BeautifulSoup(response.text, 'html.parser')\n",
    "    result = []\n",
    "    try:\n",
    "        vouchers = soup.select('.l4.q8.gN.l7.bM.q8.zd.c-green.kq.nocode, .l4.q8.gN.l7.bM.q8.zd.c-orange.kq.code, .l4.q8.gN.l7.bM.q8.zd.c-blue.kq.nocode')\n",
    "        for voucher in vouchers:\n",
    "            name = voucher.select_one('.offer-text-border').text\n",
    "            onClick = voucher.select_one('.dF.ek.lZ.ah.aU[onclick]')\n",
    "            if onClick:\n",
    "                onClick = onClick.get('onclick', '')\n",
    "                # Sử dụng regex để trích xuất URL từ onclick\n",
    "                match = re.search(r\"openPopup\\('[^']+',\\s*'([^']+)'\", onClick)\n",
    "                if match:\n",
    "                    link = match.group(1)\n",
    "                    # Thay thế || thành : và | thành /\n",
    "                    link = link.replace(\"||\", \"//\").replace(\"|\", \"/\")\n",
    "                else:\n",
    "                    link = 'N/A'\n",
    "            else:\n",
    "                link = 'N/A'\n",
    "            info = voucher.select_one('p.a.en.rp.f1').text\n",
    "            details = voucher.select_one('.dn.hidden-details.fq.cC.gL.gy.pl5-l-4x.yh.uP.dF')\n",
    "            if details:\n",
    "                # Lấy giá trị từ các phần tử con\n",
    "                hieu_luc = details.select('.hk .bh.fM.bc.gray-8b.ac.en.hh')\n",
    "                hieu_luc = hieu_luc[0].find_next('div').text.strip() if len(hieu_luc) > 0 else 'N/A'\n",
    "\n",
    "                gioi_han = details.select('.hk .bh.fM.bc.gray-8b.ac.en.hh')\n",
    "                gioi_han = gioi_han[1].find_next('div').text.strip() if len(gioi_han) > 1 else 'N/A'\n",
    "\n",
    "                chi_tieu = details.select('.hk .bh.fM.bc.gray-8b.ac.en.hh')\n",
    "                chi_tieu = chi_tieu[2].find_next('div').text.strip() if len(chi_tieu) > 2 else 'N/A'\n",
    "\n",
    "                doi_tuong = details.select('.hk .bh.fM.bc.gray-8b.ac.en.hh')\n",
    "                doi_tuong = doi_tuong[3].find_next('div').text.strip() if len(doi_tuong) > 3 else 'N/A'\n",
    "            else:\n",
    "                hieu_luc = 'N/A'\n",
    "                gioi_han = 'N/A'\n",
    "                chi_tieu = 'N/A'\n",
    "                doi_tuong = 'N/A'\n",
    "            result.append({\n",
    "                \"name\": name,\n",
    "                \"link\": link,\n",
    "                \"info\": info,\n",
    "                \"hieu_luc\": hieu_luc,\n",
    "                \"gioi_han\": gioi_han,\n",
    "                \"chi_tieu\": chi_tieu,\n",
    "                \"doi_tuong\": doi_tuong,\n",
    "\n",
    "            })\n",
    "    except Exception as e:\n",
    "        print(f\"Error: {e}\")\n",
    "    with open('branch_voucher.json', 'w', encoding='utf-8') as f:\n",
    "        json.dump(result, f, ensure_ascii=False, indent=4)\n",
    "        print(\"Dữ liệu đã được lưu vào file\")"
   ]
  },
  {
   "cell_type": "code",
   "execution_count": null,
   "metadata": {},
   "outputs": [],
   "source": [
    "getVoucher(\"https://iprice.vn/coupons/top-20-ma-giam-gia/\")"
   ]
  },
  {
   "cell_type": "code",
   "execution_count": 62,
   "metadata": {},
   "outputs": [],
   "source": [
    "def getVoucherFromCate(url):\n",
    "    headers = {\n",
    "        \"User-Agent\": \"Mozilla/5.0 (Windows NT 10.0; Win64; x64) AppleWebKit/537.36 (KHTML, like Gecko) Chrome/114.0.0.0 Safari/537.36\",\n",
    "        \"Accept-Language\": \"en-US,en;q=0.9\",\n",
    "    }\n",
    "    response = requests.get(url, headers=headers)\n",
    "    if response.status_code != 200:\n",
    "        print(f\"Lỗi tải trang: {response.status_code}\")\n",
    "        return\n",
    "    soup = BeautifulSoup(response.text, 'html.parser')\n",
    "    result = []\n",
    "    try:\n",
    "        vouchers = soup.select('.l4.q8.gN.l7.bM.q8.zd.c-green.kq.nocode, .l4.q8.gN.l7.bM.q8.zd.c-orange.kq.code, .l4.q8.gN.l7.bM.q8.zd.c-blue.kq.nocode')\n",
    "        for voucher in vouchers:\n",
    "            link_voucher = voucher.select_one('a.z-3.pa3-4x.bF.rl.tA.coupon-img-container.h-110-l[href]').get('href')\n",
    "            onClick = voucher.select_one('.dF.ek.lZ.ah.aU[onclick]')\n",
    "            if onClick:\n",
    "                onClick = onClick.get('onclick', '')\n",
    "                # Sử dụng regex để trích xuất URL từ onclick\n",
    "                match = re.search(r\"openPopup\\('[^']+',\\s*'([^']+)'\", onClick)\n",
    "                if match:\n",
    "                    link = match.group(1)\n",
    "                    # Thay thế || thành : và | thành /\n",
    "                    link = link.replace(\"||\", \"//\").replace(\"|\", \"/\")\n",
    "                else:\n",
    "                    link = 'N/A'\n",
    "            else:\n",
    "                link = 'N/A'\n",
    "            info = voucher.select_one('p.a.en.rp.f1').text\n",
    "            details = voucher.select_one('.dn.hidden-details.fq.cC.gL.gy.pl5-l-4x.yh.uP.dF')\n",
    "            if details:\n",
    "                # Lấy giá trị từ các phần tử con\n",
    "                hieu_luc = details.select('.hk .bh.fM.bc.gray-8b.ac.en.hh')\n",
    "                hieu_luc = hieu_luc[0].find_next('div').text.strip() if len(hieu_luc) > 0 else 'N/A'\n",
    "\n",
    "                gioi_han = details.select('.hk .bh.fM.bc.gray-8b.ac.en.hh')\n",
    "                gioi_han = gioi_han[1].find_next('div').text.strip() if len(gioi_han) > 1 else 'N/A'\n",
    "\n",
    "                chi_tieu = details.select('.hk .bh.fM.bc.gray-8b.ac.en.hh')\n",
    "                chi_tieu = chi_tieu[2].find_next('div').text.strip() if len(chi_tieu) > 2 else 'N/A'\n",
    "\n",
    "                doi_tuong = details.select('.hk .bh.fM.bc.gray-8b.ac.en.hh')\n",
    "                doi_tuong = doi_tuong[3].find_next('div').text.strip() if len(doi_tuong) > 3 else 'N/A'\n",
    "            else:\n",
    "                hieu_luc = 'N/A'\n",
    "                gioi_han = 'N/A'\n",
    "                chi_tieu = 'N/A'\n",
    "                doi_tuong = 'N/A'\n",
    "            result.append({\n",
    "                \"link_voucher\": link_voucher,\n",
    "                \"link\": link,\n",
    "                \"info\": info,\n",
    "                \"hieu_luc\": hieu_luc,\n",
    "                \"gioi_han\": gioi_han,\n",
    "                \"chi_tieu\": chi_tieu,\n",
    "                \"doi_tuong\": doi_tuong,\n",
    "\n",
    "            })\n",
    "    except Exception as e:\n",
    "        print(f\"Error: {e}\")\n",
    "    with open('branch_voucher.json', 'w', encoding='utf-8') as f:\n",
    "        json.dump(result, f, ensure_ascii=False, indent=4)\n",
    "        print(\"Dữ liệu đã được lưu vào file\")"
   ]
  },
  {
   "cell_type": "code",
   "execution_count": 63,
   "metadata": {},
   "outputs": [
    {
     "name": "stdout",
     "output_type": "stream",
     "text": [
      "Dữ liệu đã được lưu vào file\n"
     ]
    }
   ],
   "source": [
    "getVoucherFromCate('https://iprice.vn/coupons/')"
   ]
  }
 ],
 "metadata": {
  "kernelspec": {
   "display_name": "Python 3",
   "language": "python",
   "name": "python3"
  },
  "language_info": {
   "codemirror_mode": {
    "name": "ipython",
    "version": 3
   },
   "file_extension": ".py",
   "mimetype": "text/x-python",
   "name": "python",
   "nbconvert_exporter": "python",
   "pygments_lexer": "ipython3",
   "version": "3.12.2"
  }
 },
 "nbformat": 4,
 "nbformat_minor": 2
}
