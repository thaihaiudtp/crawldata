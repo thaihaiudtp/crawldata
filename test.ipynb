{
 "cells": [
  {
   "cell_type": "code",
   "execution_count": 25,
   "metadata": {},
   "outputs": [],
   "source": [
    "import numpy as np\n",
    "from selenium import webdriver\n",
    "from time import sleep\n",
    "import random\n",
    "from selenium.webdriver.support.ui import WebDriverWait\n",
    "from selenium.webdriver.chrome.service import Service\n",
    "from selenium.webdriver.common.by import By\n",
    "from selenium.webdriver.support import expected_conditions as EC\n",
    "import pandas as pd\n",
    "from selenium.webdriver.chrome.options import Options\n",
    "import json\n",
    "import re\n",
    "\n",
    "\n"
   ]
  },
  {
   "cell_type": "code",
   "execution_count": 26,
   "metadata": {},
   "outputs": [],
   "source": [
    "def get_product(link):\n",
    "    options = Options()\n",
    "    options.add_argument(\"--headless\")\n",
    "    options.add_argument(\"--disable-gpu\")\n",
    "    options.add_argument(\"--no-sandbox\")\n",
    "    options.add_argument(\"--disable-extensions\")\n",
    "    options.add_argument(\"--disable-images\") \n",
    "    service = Service('chromedriver.exe')\n",
    "    driver = webdriver.Chrome(service=service)\n",
    "    driver.get(link+\"?sort=price.net_asc\")\n",
    "    sleep(random.randint(3,5))\n",
    "    result = []\n",
    "    product_list = driver.find_elements(By.CSS_SELECTOR, '.non-pc')\n",
    "    for products in product_list:\n",
    "        product_name = products.find_element(By.CSS_SELECTOR, 'h3.zE.zF.qB').text.strip() if products.find_elements(By.CSS_SELECTOR, 'h3.zE.zF.qB') else None\n",
    "        product_price = products.find_element(By.CSS_SELECTOR, 'div.z4.nW.e7.gC').text.strip() if products.find_elements(By.CSS_SELECTOR, 'div.z4.nW.e7.gC') else None\n",
    "        product_price_number = int(re.sub(r'[^\\d]', '', product_price)) if product_price else None\n",
    "        product_store = products.find_element(By.CSS_SELECTOR, 'h5.zM.lc.qB.g').text.strip() if products.find_elements(By.CSS_SELECTOR, 'h5.zM.lc.qB.g') else None\n",
    "        product_image = products.find_element(By.CSS_SELECTOR, 'img.z9.z7').get_attribute('src') if products.find_elements(By.CSS_SELECTOR, 'img.z9.z7') else None\n",
    "#        on_attribute = products.get_attribute('on') if products else None\n",
    "#        product_link = None\n",
    "#        final_link = None\n",
    "#        if on_attribute:\n",
    "#            match = re.search(r\"url='([^']+)'\", on_attribute)\n",
    "#            product_link = match.group(1) if match else None\n",
    "#            if product_link:\n",
    "#                full_link = f\"https://iprice.vn{product_link}\"\n",
    "#                driver.get(full_link)\n",
    "#                sleep(random.randint(3, 5))\n",
    "#                final_link = driver.current_url  \n",
    "#                driver.back()\n",
    "#                sleep(random.randint(3, 5))  \n",
    "        result.append({\n",
    "            'product_name': product_name,\n",
    "            'product_price': product_price_number,\n",
    "            'product_store': product_store,\n",
    "            'product_image': product_image,\n",
    "#           'product_link': final_link,\n",
    "        })\n",
    "        with open('categories_v1.json', 'w', encoding='utf-8') as f:\n",
    "            json.dump(result, f, ensure_ascii=False, indent=4)\n",
    "\n",
    "    print(\"Dữ liệu đã được lưu vào file `categories_v1.json`.\")"
   ]
  },
  {
   "cell_type": "code",
   "execution_count": 27,
   "metadata": {},
   "outputs": [
    {
     "name": "stdout",
     "output_type": "stream",
     "text": [
      "Dữ liệu đã được lưu vào file `categories_v1.json`.\n"
     ]
    }
   ],
   "source": [
    "url_v1 = \"https://iprice.vn/bep-an/\"\n",
    "get_product(url_v1)"
   ]
  },
  {
   "cell_type": "code",
   "execution_count": 29,
   "metadata": {},
   "outputs": [],
   "source": [
    "def get_category(url):\n",
    "    service = Service('chromedriver.exe')\n",
    "    driver = webdriver.Chrome(service=service)\n",
    "    driver.get(url)\n",
    "    sleep(random.randint(10, 15))\n",
    "    result = []\n",
    "    try:\n",
    "        categories = WebDriverWait(driver, 10).until(\n",
    "            EC.presence_of_all_elements_located((By.CSS_SELECTOR, 'ul > li.pointer[data-category]'))\n",
    "        )\n",
    "        for category in categories:\n",
    "            sub_category_list = category.find_elements(By.CSS_SELECTOR, 'ul > li.pointer[data-category]')\n",
    "            if sub_category_list:\n",
    "                try:\n",
    "                    if category.find_elements(By.CSS_SELECTOR, 'a[href] > span'):\n",
    "                        main_category = category.find_element(By.CSS_SELECTOR, 'a[href] > span').text.strip()\n",
    "                        link_main = category.find_element(By.CSS_SELECTOR, 'a[href]').get_attribute('href')\n",
    "                    elif category.find_elements(By.CSS_SELECTOR, '> span[on] > span'):\n",
    "                        main_category = category.find_element(By.CSS_SELECTOR, '> span[on] > span').text.strip()\n",
    "                        on_attribute = category.find_element(By.CSS_SELECTOR, '> span[on]').get_attribute('on')\n",
    "                        match = re.search(r\"thor:\\s*'([^']+)'\", on_attribute)\n",
    "                        if match:\n",
    "                            link_main = f\"https://iprice.vn/{match.group(1).replace('|', '/')}/\"\n",
    "                        else:\n",
    "                            link_main = None\n",
    "                    else:\n",
    "                        continue\n",
    "                except Exception as e:\n",
    "                    print(f\"Error: {e}\")\n",
    "                    continue\n",
    "                sub_result = []\n",
    "                for sub_category in sub_category_list:\n",
    "                    try:\n",
    "                        if sub_category.find_elements(By.CSS_SELECTOR, 'a[href]'):\n",
    "                            sub_category_element = sub_category.find_element(By.CSS_SELECTOR, 'a[href]')\n",
    "                            sub_link = sub_category_element.get_attribute('href')\n",
    "                            sub_result.append({\n",
    "                                \"subCategory\": sub_category_element.find_element(By.CSS_SELECTOR, 'span').text,\n",
    "                                \"sub_link\": sub_link,\n",
    "                            })\n",
    "                        elif sub_category.find_elements(By.CSS_SELECTOR, 'span[on]'):\n",
    "                            sub_category_element = sub_category.find_element(By.CSS_SELECTOR, 'span[on]')\n",
    "                            on_attribute = sub_category_element.get_attribute('on')\n",
    "                            match = re.search(r\"thor:\\s*'([^']+)'\", on_attribute)\n",
    "                            if match:\n",
    "                                sub_link = f\"https://iprice.vn/{match.group(1).replace('|', '/')}/\"\n",
    "                            else:\n",
    "                                sub_link = None\n",
    "                            sub_result.append({\n",
    "                                \"subCategory\": sub_category_element.find_element(By.CSS_SELECTOR, 'span').text,\n",
    "                                \"sub_link\": sub_link,\n",
    "                            })\n",
    "                    except Exception as e:\n",
    "                        print(f\"Error (subCategory): {e}\")\n",
    "                result.append({\n",
    "                    'main_category': main_category,\n",
    "                    'main_link': link_main,\n",
    "                    'sub_categories': sub_result\n",
    "                })\n",
    "                \n",
    "    except Exception as e:\n",
    "        print(f\"Error: {e}\")\n",
    "    with open('categories.json', 'w', encoding='utf-8') as f:\n",
    "        json.dump(result, f, ensure_ascii=False, indent=4)\n",
    "\n",
    "    print(\"Dữ liệu đã được lưu vào file `categories.json`.\")"
   ]
  },
  {
   "cell_type": "code",
   "execution_count": 30,
   "metadata": {},
   "outputs": [
    {
     "name": "stdout",
     "output_type": "stream",
     "text": [
      "Dữ liệu đã được lưu vào file `categories.json`.\n"
     ]
    }
   ],
   "source": [
    "url = 'https://iprice.vn/categories/'\n",
    "get_category(url)"
   ]
  }
 ],
 "metadata": {
  "kernelspec": {
   "display_name": "Python 3",
   "language": "python",
   "name": "python3"
  },
  "language_info": {
   "codemirror_mode": {
    "name": "ipython",
    "version": 3
   },
   "file_extension": ".py",
   "mimetype": "text/x-python",
   "name": "python",
   "nbconvert_exporter": "python",
   "pygments_lexer": "ipython3",
   "version": "3.12.2"
  }
 },
 "nbformat": 4,
 "nbformat_minor": 2
}
