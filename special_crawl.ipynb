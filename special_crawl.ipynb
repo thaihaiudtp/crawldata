{
 "cells": [
  {
   "cell_type": "code",
   "execution_count": 1,
   "metadata": {},
   "outputs": [],
   "source": [
    "import requests\n",
    "from bs4 import BeautifulSoup\n",
    "import json\n",
    "import re\n",
    "import time\n",
    "import aiohttp\n",
    "import asyncio  \n",
    "import nest_asyncio\n",
    "import csv  "
   ]
  },
  {
   "cell_type": "code",
   "execution_count": 5,
   "metadata": {},
   "outputs": [],
   "source": [
    "nest_asyncio.apply()\n",
    "async def fetch_url(session, url):\n",
    "    async with session.get(url) as response:\n",
    "        return await response.text()\n",
    "\n",
    "async def get_product_async(link):\n",
    "    url = link + \"?sort=price.net_asc\"\n",
    "    headers = {\n",
    "        \"User-Agent\": \"Mozilla/5.0 (Windows NT 10.0; Win64; x64) AppleWebKit/537.36 (KHTML, like Gecko) Chrome/114.0.0.0 Safari/537.36\",\n",
    "        \"Accept-Language\": \"en-US,en;q=0.9\",\n",
    "    }\n",
    "\n",
    "    async with aiohttp.ClientSession(headers=headers) as session:\n",
    "        response_text = await fetch_url(session, url)\n",
    "        return response_text\n",
    "def get_product(link):\n",
    "    loop = asyncio.get_event_loop()\n",
    "    request_start_time = time.time()\n",
    "    response_text = loop.run_until_complete(get_product_async(link)) \n",
    "    request_end_time = time.time()\n",
    "    print(f\"Thời gian gửi yêu cầu HTTP: {request_end_time - request_start_time:.2f} giây\")\n",
    "    parse_start_time = time.time()\n",
    "    soup = BeautifulSoup(response_text, 'html.parser')\n",
    "    parse_end_time = time.time()\n",
    "    print(f\"Thời gian phân tích HTML: {parse_end_time - parse_start_time:.2f} giây\")\n",
    "    result = []\n",
    "    product_list = soup.select('.zA.oY.pu.rg.zB.cv-auto.kF.kG.kI, .zA.oY.pu.rg.zB.cv-auto.kF.kG.kH')\n",
    "    loop_start_time = time.time()\n",
    "    for id, product in enumerate(product_list):\n",
    "        product_name = product.select_one('h3.zE.hd').get_text(strip=True) if product.select_one('h3.zE.hd') else None\n",
    "        product_price = product.select_one('div.z2').get_text(strip=True) if product.select_one('div.z2') else None\n",
    "        product_image = product.select_one('img.z9.z6.l-')['src'] if product.select_one('img.z9.z6.l-') else None\n",
    "        result.append({\n",
    "            'id': id,\n",
    "            'product_name': product_name,\n",
    "            'product_price': product_price,\n",
    "            'product_image': product_image,\n",
    "        })\n",
    "    loop_end_time = time.time()\n",
    "    print(f\"Thời gian duyệt qua các sản phẩm: {loop_end_time - loop_start_time:.2f} giây\")\n",
    "    count_dict = len(result)\n",
    "    file_save_start_time = time.time()\n",
    "    with open('categories_v1.json', 'w', encoding='utf-8') as f:\n",
    "        json.dump(result, f, ensure_ascii=False, indent=4)\n",
    "    file_save_end_time = time.time()\n",
    "    print(f\"Thời gian lưu dữ liệu vào file JSON: {file_save_end_time - file_save_start_time:.2f} giây\")\n",
    "    csv_file_save_start_time = time.time()\n",
    "    with open('categories_v1.csv', 'w', newline='', encoding='utf-8') as f:\n",
    "        writer = csv.DictWriter(f, fieldnames=['id', 'product_name', 'product_price', 'product_store', 'product_image', 'product_rating', 'api'])\n",
    "        writer.writeheader()\n",
    "        writer.writerows(result)\n",
    "    csv_file_save_end_time = time.time()\n",
    "    print(f\"Thời gian lưu dữ liệu vào file CSV: {csv_file_save_end_time - csv_file_save_start_time:.2f} giây\")\n",
    "    print(\"Dữ liệu đã được lưu vào file `categories_v1.json` và có \" + str(count_dict))\n",
    "\n"
   ]
  },
  {
   "cell_type": "code",
   "execution_count": 6,
   "metadata": {},
   "outputs": [
    {
     "name": "stdout",
     "output_type": "stream",
     "text": [
      "Thời gian gửi yêu cầu HTTP: 0.56 giây\n",
      "Thời gian phân tích HTML: 0.05 giây\n",
      "Thời gian duyệt qua các sản phẩm: 0.01 giây\n",
      "Thời gian lưu dữ liệu vào file JSON: 0.00 giây\n",
      "Thời gian lưu dữ liệu vào file CSV: 0.00 giây\n",
      "Dữ liệu đã được lưu vào file `categories_v1.json` và có 59\n"
     ]
    }
   ],
   "source": [
    "get_product(\"https://iprice.vn/dien-thoai-may-tinh-bang/dien-thoai-thong-minh/\")"
   ]
  }
 ],
 "metadata": {
  "kernelspec": {
   "display_name": "Python 3",
   "language": "python",
   "name": "python3"
  },
  "language_info": {
   "codemirror_mode": {
    "name": "ipython",
    "version": 3
   },
   "file_extension": ".py",
   "mimetype": "text/x-python",
   "name": "python",
   "nbconvert_exporter": "python",
   "pygments_lexer": "ipython3",
   "version": "3.12.2"
  }
 },
 "nbformat": 4,
 "nbformat_minor": 2
}
